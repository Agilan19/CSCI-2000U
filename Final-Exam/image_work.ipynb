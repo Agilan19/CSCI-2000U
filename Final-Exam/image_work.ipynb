{
 "cells": [
  {
   "cell_type": "code",
   "execution_count": 81,
   "metadata": {
    "collapsed": false
   },
   "outputs": [
    {
     "data": {
      "text/plain": [
       "array([[[ 0.24313726,  0.11372549,  0.25098041],\n",
       "        [ 0.24705882,  0.12156863,  0.25098041],\n",
       "        [ 0.24705882,  0.13333334,  0.25098041],\n",
       "        ..., \n",
       "        [ 0.25098041,  0.11372549,  0.22352941],\n",
       "        [ 0.24705882,  0.10980392,  0.21568628],\n",
       "        [ 0.25098041,  0.10980392,  0.21568628]],\n",
       "\n",
       "       [[ 0.24705882,  0.12156863,  0.24313726],\n",
       "        [ 0.23921569,  0.12156863,  0.25098041],\n",
       "        [ 0.23137255,  0.1254902 ,  0.25098041],\n",
       "        ..., \n",
       "        [ 0.23921569,  0.10588235,  0.21568628],\n",
       "        [ 0.22745098,  0.10588235,  0.21176471],\n",
       "        [ 0.21960784,  0.10588235,  0.21960784]],\n",
       "\n",
       "       [[ 0.25490198,  0.11372549,  0.23529412],\n",
       "        [ 0.24705882,  0.11764706,  0.24313726],\n",
       "        [ 0.24705882,  0.12156863,  0.24705882],\n",
       "        ..., \n",
       "        [ 0.25098041,  0.10196079,  0.21568628],\n",
       "        [ 0.24313726,  0.10588235,  0.22352941],\n",
       "        [ 0.22352941,  0.10588235,  0.22352941]],\n",
       "\n",
       "       ..., \n",
       "       [[ 0.46666667,  0.27843139,  0.53333336],\n",
       "        [ 0.4627451 ,  0.27058825,  0.53333336],\n",
       "        [ 0.47058824,  0.28627452,  0.5529412 ],\n",
       "        ..., \n",
       "        [ 0.17647059,  0.08235294,  0.17647059],\n",
       "        [ 0.17647059,  0.09411765,  0.18039216],\n",
       "        [ 0.15686275,  0.09411765,  0.16470589]],\n",
       "\n",
       "       [[ 0.44313726,  0.27058825,  0.50980395],\n",
       "        [ 0.43529412,  0.27058825,  0.51764709],\n",
       "        [ 0.4509804 ,  0.28235295,  0.53333336],\n",
       "        ..., \n",
       "        [ 0.16078432,  0.07450981,  0.16862746],\n",
       "        [ 0.17254902,  0.08627451,  0.18431373],\n",
       "        [ 0.17647059,  0.08627451,  0.1882353 ]],\n",
       "\n",
       "       [[ 0.43529412,  0.27450982,  0.50980395],\n",
       "        [ 0.44705883,  0.28235295,  0.51372552],\n",
       "        [ 0.4509804 ,  0.27843139,  0.51372552],\n",
       "        ..., \n",
       "        [ 0.15686275,  0.07843138,  0.16078432],\n",
       "        [ 0.16470589,  0.08235294,  0.17647059],\n",
       "        [ 0.18039216,  0.09019608,  0.19215687]]], dtype=float32)"
      ]
     },
     "execution_count": 81,
     "metadata": {},
     "output_type": "execute_result"
    }
   ],
   "source": [
    "%matplotlib inline\n",
    "from scipy import misc\n",
    "from scipy import ndimage\n",
    "import numpy as np\n",
    "from scipy import stats\n",
    "from scipy import linalg\n",
    "\n",
    "from scipy import optimize\n",
    "\n",
    "#a)\n",
    "\n",
    "# Matplotlib also has a similar function\n",
    "import matplotlib.pyplot as plt\n",
    "from scipy import linalg\n",
    "\n",
    "from scipy import io as spio\n",
    "\n",
    "plt.imread('peppers.png')\n",
    "\n"
   ]
  },
  {
   "cell_type": "code",
   "execution_count": 82,
   "metadata": {
    "collapsed": false
   },
   "outputs": [
    {
     "name": "stdout",
     "output_type": "stream",
     "text": [
      "(384, 512, 3)\n"
     ]
    }
   ],
   "source": [
    "#b)\n",
    "\n",
    "rgb_peppers = misc.imread('peppers.png')\n",
    "\n",
    "print (rgb_peppers.shape)\n"
   ]
  },
  {
   "cell_type": "code",
   "execution_count": 85,
   "metadata": {
    "collapsed": false
   },
   "outputs": [
    {
     "ename": "AttributeError",
     "evalue": "'module' object has no attribute 'rgb_peppers'",
     "output_type": "error",
     "traceback": [
      "\u001b[1;31m---------------------------------------------------------------------------\u001b[0m",
      "\u001b[1;31mAttributeError\u001b[0m                            Traceback (most recent call last)",
      "\u001b[1;32m<ipython-input-85-7c2d1671a87d>\u001b[0m in \u001b[0;36m<module>\u001b[1;34m()\u001b[0m\n\u001b[0;32m      6\u001b[0m \u001b[0mrgb_peppers\u001b[0m \u001b[1;33m=\u001b[0m \u001b[0mmisc\u001b[0m\u001b[1;33m.\u001b[0m\u001b[0mimread\u001b[0m\u001b[1;33m(\u001b[0m\u001b[1;34m'peppers.png'\u001b[0m\u001b[1;33m)\u001b[0m\u001b[1;33m\u001b[0m\u001b[0m\n\u001b[0;32m      7\u001b[0m \u001b[1;33m\u001b[0m\u001b[0m\n\u001b[1;32m----> 8\u001b[1;33m \u001b[0mf\u001b[0m \u001b[1;33m=\u001b[0m \u001b[0mmisc\u001b[0m\u001b[1;33m.\u001b[0m\u001b[0mrgb_peppers\u001b[0m\u001b[1;33m(\u001b[0m\u001b[0mgray\u001b[0m\u001b[1;33m=\u001b[0m\u001b[1;32mTrue\u001b[0m\u001b[1;33m)\u001b[0m  \u001b[1;31m# retrieve a grayscale image\u001b[0m\u001b[1;33m\u001b[0m\u001b[0m\n\u001b[0m\u001b[0;32m      9\u001b[0m \u001b[0mplt\u001b[0m\u001b[1;33m.\u001b[0m\u001b[0mimshow\u001b[0m\u001b[1;33m(\u001b[0m\u001b[0mf\u001b[0m\u001b[1;33m,\u001b[0m \u001b[0mcmap\u001b[0m\u001b[1;33m=\u001b[0m\u001b[0mplt\u001b[0m\u001b[1;33m.\u001b[0m\u001b[0mcm\u001b[0m\u001b[1;33m.\u001b[0m\u001b[0mgray\u001b[0m\u001b[1;33m)\u001b[0m\u001b[1;33m\u001b[0m\u001b[0m\n\u001b[0;32m     10\u001b[0m \u001b[0mplt\u001b[0m\u001b[1;33m.\u001b[0m\u001b[0mshow\u001b[0m\u001b[1;33m(\u001b[0m\u001b[1;33m)\u001b[0m\u001b[1;33m\u001b[0m\u001b[0m\n",
      "\u001b[1;31mAttributeError\u001b[0m: 'module' object has no attribute 'rgb_peppers'"
     ]
    }
   ],
   "source": [
    "#c)\n",
    "\n",
    "#rgb_peppers = misc.rgb_peppers()\n",
    "#misc.imsave('peppers.png', rgb_peppers)\n",
    "\n",
    "rgb_peppers = misc.imread('peppers.png')\n",
    "\n",
    "f = misc.rgb_peppers(gray=True)  # retrieve a grayscale image\n",
    "plt.imshow(f, cmap=plt.cm.gray) \n",
    "plt.show()"
   ]
  },
  {
   "cell_type": "code",
   "execution_count": 92,
   "metadata": {
    "collapsed": false
   },
   "outputs": [
    {
     "name": "stdout",
     "output_type": "stream",
     "text": [
      "255\n",
      "0\n"
     ]
    },
    {
     "ename": "AttributeError",
     "evalue": "'numpy.ndarray' object has no attribute 'median'",
     "output_type": "error",
     "traceback": [
      "\u001b[1;31m---------------------------------------------------------------------------\u001b[0m",
      "\u001b[1;31mAttributeError\u001b[0m                            Traceback (most recent call last)",
      "\u001b[1;32m<ipython-input-92-2f6693013278>\u001b[0m in \u001b[0;36m<module>\u001b[1;34m()\u001b[0m\n\u001b[0;32m      5\u001b[0m \u001b[0mprint\u001b[0m \u001b[1;33m(\u001b[0m\u001b[0mrgb_peppers\u001b[0m\u001b[1;33m.\u001b[0m\u001b[0mmin\u001b[0m\u001b[1;33m(\u001b[0m\u001b[1;33m)\u001b[0m\u001b[1;33m)\u001b[0m\u001b[1;33m\u001b[0m\u001b[0m\n\u001b[0;32m      6\u001b[0m \u001b[1;33m\u001b[0m\u001b[0m\n\u001b[1;32m----> 7\u001b[1;33m \u001b[0mprint\u001b[0m \u001b[1;33m(\u001b[0m\u001b[1;33m(\u001b[0m\u001b[0mrgb_peppers\u001b[0m\u001b[1;33m.\u001b[0m\u001b[0mmedian\u001b[0m\u001b[1;33m(\u001b[0m\u001b[1;33m)\u001b[0m\u001b[1;33m)\u001b[0m\u001b[1;33m)\u001b[0m\u001b[1;33m\u001b[0m\u001b[0m\n\u001b[0m\u001b[0;32m      8\u001b[0m \u001b[1;33m\u001b[0m\u001b[0m\n\u001b[0;32m      9\u001b[0m \u001b[0mhist\u001b[0m\u001b[1;33m,\u001b[0m \u001b[0mbins\u001b[0m \u001b[1;33m=\u001b[0m \u001b[0mnp\u001b[0m\u001b[1;33m.\u001b[0m\u001b[0mhistogram\u001b[0m\u001b[1;33m(\u001b[0m\u001b[0mvector\u001b[0m\u001b[1;33m,\u001b[0m \u001b[0mbins\u001b[0m \u001b[1;33m=\u001b[0m \u001b[1;36m50\u001b[0m\u001b[1;33m)\u001b[0m\u001b[1;33m\u001b[0m\u001b[0m\n",
      "\u001b[1;31mAttributeError\u001b[0m: 'numpy.ndarray' object has no attribute 'median'"
     ]
    }
   ],
   "source": [
    "#d)\n",
    "\n",
    "print (rgb_peppers.max())\n",
    "\n",
    "print (rgb_peppers.min())\n",
    "\n",
    "print ((rgb_peppers.median()))\n",
    "\n",
    "hist, bins = np.histogram(vector, bins = 50)\n",
    "width = 0.7 * (bins[1] - bins[0])\n",
    "center = (bins[:-1] + bins[1:]) / 2\n",
    "plt.bar(center, hist, width=width, color= 'blue')\n",
    "plt.show()"
   ]
  },
  {
   "cell_type": "code",
   "execution_count": null,
   "metadata": {
    "collapsed": true
   },
   "outputs": [],
   "source": []
  }
 ],
 "metadata": {
  "kernelspec": {
   "display_name": "Python 3",
   "language": "python",
   "name": "python3"
  },
  "language_info": {
   "codemirror_mode": {
    "name": "ipython",
    "version": 3
   },
   "file_extension": ".py",
   "mimetype": "text/x-python",
   "name": "python",
   "nbconvert_exporter": "python",
   "pygments_lexer": "ipython3",
   "version": "3.4.3"
  }
 },
 "nbformat": 4,
 "nbformat_minor": 0
}
