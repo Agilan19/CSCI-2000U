{
 "cells": [
  {
   "cell_type": "code",
   "execution_count": 1,
   "metadata": {
    "collapsed": false,
    "scrolled": true
   },
   "outputs": [
    {
     "name": "stdout",
     "output_type": "stream",
     "text": [
      "When n =     10, rho_n = 3.04183961893\n",
      "When n =     10, tau_n = 3.04936163598\n",
      "When n =     10, mu_n = 3.14138462247\n"
     ]
    }
   ],
   "source": [
    "#Agilan Ampigaipathar\n",
    "#100553054\n",
    "\n",
    "#Import the numpy package in order to use the numpy.sum function\n",
    "from numpy import *\n",
    "\n",
    "#Set numpy as np so np could be used instead later in the program.\n",
    "import numpy as np\n",
    "\n",
    "#Set the assigned n value starting with 10. Change this value to 100, 1000,\n",
    "#10000, 100000, and 1000000 and test them out and see the pi approximation \n",
    "#reach closer to Pi.\n",
    "n = 10\n",
    "\n",
    "#As the formula suggests on the document, k starts at 1.\n",
    "k = 1\n",
    "\n",
    "#Initialize an array for each calculation being asked for.\n",
    "#Each array will store the first instance of the calculation as the \n",
    "#first element of their respected arrays and then the second instance \n",
    "#for the calculation will be the second element and so on until the array\n",
    "#is filed with the nth instance and all prior instances as elements.\n",
    "rho_n_calculation = []\n",
    "tau_n_calculation = []\n",
    "mu_n_calculation = []\n",
    "\n",
    "#Make a for loop to calculate each instance as k starts from 1 and\n",
    "#increases by one until it is equal to the number of instances (n) plus 1\n",
    "#because it started at 1 and not 0. It will run once through the loop\n",
    "#calculating an instance and adding it as an element, and the loop\n",
    "#will continually append (add) elements until the number of desired \n",
    "#instances is reached.\n",
    "for i in range(k,n+1):\n",
    "        rho_n_calculation.append([((-1)**(k+1))/(2*i-1)])\n",
    "        \n",
    "        tau_n_calculation.append([1/(k**2)])\n",
    "        \n",
    "        mu_n_calculation.append([1/(k**4)])\n",
    "        \n",
    "        k += 1\n",
    "\n",
    "#Calculate rho_n by using the numpy sum function to get 4 times the \n",
    "#sum of the rho_n_calculation array.\n",
    "rho_n = np.sum(4 * rho_n_calculation)\n",
    "\n",
    "#Calculate tau_n by using the numpy sum function to get 6 times the sum of\n",
    "#the tau_n_calculation array all to the power of 1/2.\n",
    "tau_n = (np.sum(6 * tau_n_calculation))**(1/2)\n",
    "\n",
    "#Calculate mu_n by using the numpy sum function to get 90 times the sum of \n",
    "#the mu_n_calculation array all to the power of 1/4.\n",
    "mu_n = (np.sum(90 * mu_n_calculation))**(1/4)\n",
    "\n",
    "#Print the final calculated results using formatted output for\n",
    "#rho_n, tau_n, and mu_n respectively. The .11 in front of the f for %f is\n",
    "#used to print with 11 decimal places as requested from the assignment\n",
    "#document.\n",
    "print (\"When n =     %d, rho_n = %.11f\" %(10,rho_n)) \n",
    "\n",
    "print (\"When n =     %d, tau_n = %.11f\" %(10,tau_n))\n",
    "\n",
    "print (\"When n =     %d, mu_n = %.11f\" %(10,mu_n))\n"
   ]
  },
  {
   "cell_type": "code",
   "execution_count": null,
   "metadata": {
    "collapsed": true
   },
   "outputs": [],
   "source": []
  }
 ],
 "metadata": {
  "kernelspec": {
   "display_name": "Python 3",
   "language": "python",
   "name": "python3"
  },
  "language_info": {
   "codemirror_mode": {
    "name": "ipython",
    "version": 3
   },
   "file_extension": ".py",
   "mimetype": "text/x-python",
   "name": "python",
   "nbconvert_exporter": "python",
   "pygments_lexer": "ipython3",
   "version": "3.4.3"
  }
 },
 "nbformat": 4,
 "nbformat_minor": 0
}
