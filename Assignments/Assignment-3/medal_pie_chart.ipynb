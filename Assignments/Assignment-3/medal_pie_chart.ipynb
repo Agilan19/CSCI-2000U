{
 "cells": [
  {
   "cell_type": "code",
   "execution_count": 1,
   "metadata": {
    "collapsed": false
   },
   "outputs": [],
   "source": [
    "#Agilan Ampigaipathar\n",
    "#100553054\n",
    "\n",
    "#Import the matplotlib.pyplot package as plt to be later used as plt \n",
    "#instead.\n",
    "import matplotlib.pyplot as plt\n",
    "\n",
    "#Creates an 11 by 11 square figure that contains the pie chart. \n",
    "fig = plt.figure(figsize = (11,11))\n",
    "\n",
    "#Make labels for each country that appear in counter-clockwise order. \n",
    "#Each labelled country goes for each fraction.\n",
    "labels = 'USA', 'CHN', 'GBR', 'RUS', 'KOR', 'GER', 'FRA', 'ITA', 'HUN', 'AUS', 'OTHER'\n",
    "\n",
    "#Each fraction was individually calculated by taking the country's gold \n",
    "#medal count and dividing it by the total gold medal count (302) to get \n",
    "#each individual fraction placed into an array with the elements holding \n",
    "#the percentage in the order of the countries' order within labels. \n",
    "fractions = [15.2317881, 12.5827815, 9.602649, 7.9470199, 4.3046358, 3.6423841, 3.6423841, 2.6490066, 2.6490066, 2.3178808, 35.4304636]\n",
    "\n",
    "#Label a different color for each country in the order of the countries\n",
    "#listed in labels. Each country was chosen with light colors to be \n",
    "#aesthetically pleasing and readable with the percentage appearing on top\n",
    "#of it.\n",
    "colors = ['yellowgreen', 'yellow', 'firebrick', 'wheat', 'coral', 'lime', 'aquamarine', 'magenta', 'indianred', 'steelblue', 'crimson']\n",
    "\n",
    "#Choose the amount in which the specific slice of the pie chart explodes \n",
    "#outwards from the circle. The smaller fractions were chosen to have a \n",
    "#larger explode value so it appears outwards more and is then less \n",
    "#cluttered and more readable.\n",
    "explode = (0.05, 0.05, 0.05, 0.05, 0.15, 0.15, 0.15, 0.15, 0.15, 0.15, 0.05)\n",
    "\n",
    "#Put all the variables to be included as parameters within the pie chart\n",
    "#like the labels, fractions, colors, and the explode values. The autopct\n",
    "#is set to .2 so that the percentages are cut to 2 decimal places to be \n",
    "#more readable and aesthetic. The shadow is set to False so the labels and \n",
    "#percent values are more clear and readable. The start angle was set to\n",
    "#90 so that everything is rotated counter-clockwise by 90 degrees making\n",
    "#the plot start on the positive y-axis.\n",
    "plt.pie(fractions, explode = explode, labels = labels, autopct = '%.2f%%', colors = colors, shadow = False, startangle = 90)\n",
    "\n",
    "#Make the required title for the graph and place it within an ideal \n",
    "#text box size and font size for readability and aesthetics. \n",
    "plt.title('2012 Olympic gold medals (100553054)', bbox={'facecolor':'0.8', 'pad':15})\n",
    "plt.rcParams['font.size'] = 11\n",
    "\n",
    "#Outputs the results of the final pie chart in a pop-up window. \n",
    "plt.show()"
   ]
  },
  {
   "cell_type": "code",
   "execution_count": null,
   "metadata": {
    "collapsed": true
   },
   "outputs": [],
   "source": []
  }
 ],
 "metadata": {
  "kernelspec": {
   "display_name": "Python 3",
   "language": "python",
   "name": "python3"
  },
  "language_info": {
   "codemirror_mode": {
    "name": "ipython",
    "version": 3
   },
   "file_extension": ".py",
   "mimetype": "text/x-python",
   "name": "python",
   "nbconvert_exporter": "python",
   "pygments_lexer": "ipython3",
   "version": "3.4.3"
  }
 },
 "nbformat": 4,
 "nbformat_minor": 0
}
