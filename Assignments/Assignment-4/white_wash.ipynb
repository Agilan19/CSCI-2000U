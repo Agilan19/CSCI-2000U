{
 "cells": [
  {
   "cell_type": "code",
   "execution_count": 2,
   "metadata": {
    "collapsed": false
   },
   "outputs": [
    {
     "name": "stdout",
     "output_type": "stream",
     "text": [
      "[[ 0.20886598  0.68255824  0.24479562]\n",
      " [ 0.45657072  0.03085639  0.43040942]\n",
      " [ 0.14559556  0.85288651  0.72061577]\n",
      " [ 0.77781635  0.58536206  0.85823104]\n",
      " [ 0.27363501  0.88355231  0.69708513]\n",
      " [ 0.52596227  0.8593041   0.38397798]\n",
      " [ 0.24241862  0.54819041  0.00184846]\n",
      " [ 0.69820244  0.0092162   0.87743506]\n",
      " [ 0.2834071   0.22327643  0.89677424]\n",
      " [ 0.66617793  0.9329709   0.83139839]\n",
      " [ 0.44498006  0.02884533  0.6359004 ]\n",
      " [ 0.86317358  0.45738308  0.28023643]\n",
      " [ 0.03615782  0.52541535  0.84708522]\n",
      " [ 0.32041542  0.724952    0.6869494 ]\n",
      " [ 0.96809792  0.31425109  0.93560751]] \n",
      "\n",
      "[[ 0.60443299  0.84127912  0.62239781]\n",
      " [ 0.72828536  0.5154282   0.71520471]\n",
      " [ 0.57279778  0.92644325  0.86030789]\n",
      " [ 0.88890817  0.79268103  0.92911552]\n",
      " [ 0.63681751  0.94177616  0.84854256]\n",
      " [ 0.76298113  0.92965205  0.69198899]\n",
      " [ 0.62120931  0.77409521  0.50092423]\n",
      " [ 0.84910122  0.5046081   0.93871753]\n",
      " [ 0.64170355  0.61163822  0.94838712]\n",
      " [ 0.83308897  0.96648545  0.91569919]\n",
      " [ 0.44498006  0.02884533  0.6359004 ]\n",
      " [ 0.86317358  0.45738308  0.28023643]\n",
      " [ 0.03615782  0.52541535  0.84708522]\n",
      " [ 0.32041542  0.724952    0.6869494 ]\n",
      " [ 0.96809792  0.31425109  0.93560751]]\n"
     ]
    }
   ],
   "source": [
    "#Agilan Ampigaipathar\n",
    "#100553054\n",
    "\n",
    "#Imports\n",
    "import numpy as np\n",
    "import random as rnd\n",
    "\n",
    "#Define function\n",
    "def WhiteWash():\n",
    "    m = 15\n",
    "    a = []\n",
    "    b = []\n",
    "    c = []\n",
    "    \n",
    "    #For loop to append to arrays with random numbers between 0 and 1 \n",
    "    for i in range (0,m):\n",
    "        \n",
    "        a.append(rnd.uniform(0,1))\n",
    "        b.append(rnd.uniform(0,1))\n",
    "        c.append(rnd.uniform(0,1))\n",
    "    \n",
    "    abc = np.asarray((a,b,c))\n",
    "    array = np.transpose(abc)\n",
    "    \n",
    "    print (array, '\\n')\n",
    "    \n",
    "    for i in range (0,10):\n",
    "        \n",
    "        #Average with the color white\n",
    "        array[:][:][i] = ((array[:][:][i]+1)/2)\n",
    "        \n",
    "    return array\n",
    "\n",
    "new_array = WhiteWash ()\n",
    "print (new_array)"
   ]
  },
  {
   "cell_type": "code",
   "execution_count": null,
   "metadata": {
    "collapsed": true
   },
   "outputs": [],
   "source": []
  }
 ],
 "metadata": {
  "kernelspec": {
   "display_name": "Python 3",
   "language": "python",
   "name": "python3"
  },
  "language_info": {
   "codemirror_mode": {
    "name": "ipython",
    "version": 3
   },
   "file_extension": ".py",
   "mimetype": "text/x-python",
   "name": "python",
   "nbconvert_exporter": "python",
   "pygments_lexer": "ipython3",
   "version": "3.4.3"
  }
 },
 "nbformat": 4,
 "nbformat_minor": 0
}
